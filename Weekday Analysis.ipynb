{
 "cells": [
  {
   "cell_type": "code",
   "execution_count": 4,
   "metadata": {},
   "outputs": [],
   "source": [
    "import numpy as np\n",
    "import pandas as pd\n",
    "from pandas_datareader import data as web\n",
    "import matplotlib.pyplot as plt\n",
    "%matplotlib inline"
   ]
  },
  {
   "cell_type": "code",
   "execution_count": 8,
   "metadata": {},
   "outputs": [],
   "source": [
    "plt.rc('lines', color='k')\n",
    "plt.rc('axes', edgecolor='k')\n",
    "\n",
    "def day_return(ticker, date):\n",
    "    data = web.DataReader(ticker, data_source='yahoo', start=date)['Adj Close'].to_frame()\n",
    "    \n",
    "    data['Date'] = data.index\n",
    "    data['Date'] = pd.to_datetime(data['Date'])\n",
    "    data['Weekday'] = data['Date'].dt.day_name()\n",
    "    data['Return'] = ((data['Adj Close']-data['Adj Close'].shift())/data['Adj Close'])*100\n",
    "    \n",
    "    intermediary = {'Date': data['Date'], 'Weekday': data['Weekday'], 'Return %': data['Return']}\n",
    "    frame = pd.DataFrame(intermediary, columns = ['Date', 'Weekday', 'Return %'])\n",
    "    \n",
    "    result = frame.groupby('Weekday', as_index=False)['Return %'].mean()\n",
    "    result['Return %'] = round(result['Return %'],3)\n",
    "    \n",
    "    max_result = frame.groupby('Weekday', as_index=False)['Return %'].max()\n",
    "    result['Maximum'] = round(max_result['Return %'],3)\n",
    "    \n",
    "    min_result = frame.groupby('Weekday', as_index=False)['Return %'].min()\n",
    "    result['Minimum'] = round(min_result['Return %'],3)\n",
    "    \n",
    "    #std_result = pd.DataFrame.std(frame.groupby('Weekday', as_index=False)['Return %'])\n",
    "    #std_result = pd.DataFrame.std(float(std_result))\n",
    "    #result['Standard Deviation'] = round(std_result['Return %'],3)\n",
    "    result = result.reindex([1, 3, 4, 2, 0])\n",
    "    return(result)\n",
    "\n",
    "#use date format 'YYYY-MM-DD' \n",
    "\n",
    "def weekday_analysis(ticker, date):\n",
    "    day_data = day_return(ticker, date)\n",
    "    print(day_data)\n",
    "    plt.figure()\n",
    "    plt.bar(np.array(day_data['Weekday']), np.array(day_data['Return %']), width=0.25, color = 'b')\n",
    "    plt.hlines(0, -0.2,4.25)\n",
    "    plt.ylabel('Average Daily Percentage')\n",
    "    plt.xlabel('Day of the Week')\n",
    "    plt.plot()\n",
    "    plt.figure()\n",
    "    plt.bar(np.array(day_data['Weekday']), np.array(day_data['Maximum']), width=0.25, color = 'g')\n",
    "    plt.bar(np.array(day_data['Weekday']), np.array(day_data['Minimum']), width=0.25, color = 'r')\n",
    "    plt.hlines(0, -0.2,4.25)\n",
    "    plt.ylabel('Maximum Daily Rise/Fall Percentage')\n",
    "    plt.xlabel('Day of the Week')\n",
    "    plt.plot()"
   ]
  },
  {
   "cell_type": "code",
   "execution_count": 9,
   "metadata": {},
   "outputs": [
    {
     "name": "stdout",
     "output_type": "stream",
     "text": [
      "     Weekday  Return %  Maximum  Minimum\n",
      "1     Monday    -0.019   10.378  -13.616\n",
      "3    Tuesday     0.054    9.738   -6.089\n",
      "4  Wednesday     0.012    5.422   -9.932\n",
      "2   Thursday     0.021    6.473  -10.511\n",
      "0     Friday    -0.004    8.498   -4.532\n"
     ]
    },
    {
     "data": {
      "image/png": "[encoded data removed]",
      "text/plain": [
       "<Figure size 432x288 with 1 Axes>"
      ]
     },
     "metadata": {
      "needs_background": "light"
     },
     "output_type": "display_data"
    },
    {
     "data": {
      "image/png": "[encoded data removed]",
      "text/plain": [
       "<Figure size 432x288 with 1 Axes>"
      ]
     },
     "metadata": {
      "needs_background": "light"
     },
     "output_type": "display_data"
    }
   ],
   "source": [
    "weekday_analysis('^GSPC', '2000-05-01')"
   ]
  }
 ],
 "metadata": {
  "kernelspec": {
   "display_name": "Python 3",
   "language": "python",
   "name": "python3"
  },
  "language_info": {
   "codemirror_mode": {
    "name": "ipython",
    "version": 3
   },
   "file_extension": ".py",
   "mimetype": "text/x-python",
   "name": "python",
   "nbconvert_exporter": "python",
   "pygments_lexer": "ipython3",
   "version": "3.8.11"
  }
 },
 "nbformat": 4,
 "nbformat_minor": 4
}
