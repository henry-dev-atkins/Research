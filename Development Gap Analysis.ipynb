{
 "cells": [
  {
   "cell_type": "code",
   "execution_count": 2,
   "metadata": {},
   "outputs": [],
   "source": [
    "import pandas as pd\n",
    "import pandas_datareader.data as web\n",
    "import numpy as np\n",
    "import matplotlib.pyplot as plt\n",
    "import datetime\n",
    "%matplotlib inline"
   ]
  },
  {
   "cell_type": "code",
   "execution_count": 4,
   "metadata": {},
   "outputs": [],
   "source": [
    "ticker = 'AMC'\n",
    "date = '2017-05-01'\n",
    "gap_perc_size = 1\n",
    "def gap_play(ticker, date, gap_perc_size):\n",
    "    data = web.DataReader(ticker, data_source='yahoo', start=date)\n",
    "    data['Last Close'] = data['Close'].shift()\n",
    "    del data['Close']\n",
    "    del data['Adj Close']\n",
    "    del data['Volume']\n",
    "    data['gap size'] = (data['Open']-data['Last Close'])\n",
    "    \n",
    "    \n",
    "    up_gap = data[data['gap size']>0]\n",
    "    up_gap = up_gap.reset_index(drop=True)\n",
    "    up_gap['return'] = (up_gap['Open']- up_gap['Low'])/up_gap['gap size']\n",
    "    up_gap['return'] = np.clip(up_gap['return'], a_max=gap_perc_size, a_min=None)\n",
    "\n",
    "    down_gap = data[data['gap size']<0]\n",
    "    down_gap = down_gap.reset_index(drop=True)\n",
    "    down_gap['return'] = (down_gap['Open']- down_gap['Low'])/down_gap['gap size']\n",
    "    down_gap['return'] = np.clip(down_gap['return'], a_max=None, a_min=-1*gap_perc_size)\n",
    "\n",
    "    res = {'Gap Ups': [up_gap['return'].mean(), up_gap['return'].std(), \n",
    "                       len(up_gap[up_gap['return']>=1])*100/len(up_gap), len(up_gap)],\n",
    "          'Gap Downs': [down_gap['return'].mean(), down_gap['return'].std(), \n",
    "                        len(down_gap[down_gap['return']<=-1])*100/len(down_gap), len(down_gap)]}\n",
    "    results = pd.DataFrame(data=res)\n",
    "    results = results.rename(index = {0: 'Average Retracement', 1: '+/-', 2:'% Gaps closed', 3:'Number of Gaps'})\n",
    "    return(results)"
   ]
  },
  {
   "cell_type": "code",
   "execution_count": 5,
   "metadata": {},
   "outputs": [],
   "source": [
    "def div(x,y):\n",
    "    return 0 if y==0 else x/y\n",
    "\n",
    "def gap_test(ticker, date, gap_perc_size):\n",
    "    data = web.DataReader(ticker, data_source='yahoo', start=date)\n",
    "    data['Last Close'] = data['Close'].shift()\n",
    "    del data['Close']\n",
    "    del data['Adj Close']\n",
    "    del data['Volume']\n",
    "    data['gap size'] = (data['Open']-data['Last Close'])\n",
    "    \n",
    "    \n",
    "    up_gap = data[data['gap size']*100 / data['Last Close'] > gap_perc_size]\n",
    "    up_gap = up_gap.reset_index(drop=True)\n",
    "    up_gap['return'] = (up_gap['Open']- up_gap['Low'])/up_gap['gap size']\n",
    "    up_gap['return'] = np.clip(up_gap['return'], a_max=gap_perc_size, a_min=None)\n",
    "    \n",
    "    down_gap = data[data['gap size']*100 / data['Last Close'] < (-1)*gap_perc_size]\n",
    "    down_gap = down_gap.reset_index(drop=True)\n",
    "    down_gap['return'] = (down_gap['Open']- down_gap['High'])/down_gap['gap size']\n",
    "    down_gap['return'] = np.clip(down_gap['return'], a_max=gap_perc_size, a_min=None)\n",
    "    \n",
    "\n",
    "    res = {'Gap Ups': [round(up_gap['return'].mean(), 2), round(up_gap['return'].std(), 2), \n",
    "                       round(div(len(up_gap[up_gap['return']>=1])*100,len(up_gap)), 2), int(len(up_gap))],\n",
    "          'Gap Downs': [round(down_gap['return'].mean(), 2), round(down_gap['return'].std(), 2), \n",
    "                        round(div(len(down_gap[down_gap['return']>=1])*100, len(down_gap)),2), int(len(down_gap))]}\n",
    "    \n",
    "    results = pd.DataFrame(data=res)\n",
    "    results = results.rename(index = {0: 'Average', 1: '+/-', 2:'% close', 3:'Number of Gaps'})\n",
    "    \n",
    "    return(results)    "
   ]
  },
  {
   "cell_type": "code",
   "execution_count": 6,
   "metadata": {},
   "outputs": [],
   "source": [
    "def gap_test1(ticker, date, gap_perc_size):\n",
    "    data = web.DataReader(ticker, data_source='yahoo', start=date)\n",
    "    data['Last Close'] = data['Close'].shift()\n",
    "    del data['Close']\n",
    "    del data['Adj Close']\n",
    "    del data['Volume']\n",
    "    data['Gap'] = ((data['Open']-data['Last Close'])*100/data['Last Close'])\n",
    "    #data = data[abs(data['Gap'])>gap_perc_size]\n",
    "    \n",
    "    \n",
    "    up_gap = data[data['Gap']>gap_perc_size]\n",
    "    up_gap = up_gap.reset_index(drop=True)\n",
    "    up_gap['Size'] = up_gap['Open']-up_gap['Last Close']\n",
    "    up_gap['return'] = (up_gap['Open']- up_gap['Low'])/up_gap['Size']\n",
    "    up_gap['return'] = np.clip(up_gap['return'], a_max=gap_perc_size, a_min=None)\n",
    "    \n",
    "    down_gap = data[data['Gap']< -1*gap_perc_size]\n",
    "    down_gap = down_gap.reset_index(drop=True)\n",
    "    down_gap['Size'] = down_gap['Last Close'] - down_gap['Open']\n",
    "    down_gap['return'] = (down_gap['Open'] - down_gap['High'])/down_gap['Size']\n",
    "    down_gap['return'] = np.clip(down_gap['return'], a_max=None, a_min=(-1*gap_perc_size))\n",
    "    \n",
    "    \n",
    "    return(up_gap['return'].mean(), down_gap['return'].mean())\n",
    "        "
   ]
  },
  {
   "cell_type": "code",
   "execution_count": 7,
   "metadata": {},
   "outputs": [
    {
     "name": "stdout",
     "output_type": "stream",
     "text": [
      "0.39574468085106385 0.7072696950737902\n",
      "           High         Low        Open  Last Close       Gap       Size  \\\n",
      "0     61.554001   58.152000   61.487999   62.203999 -1.151051   0.716000   \n",
      "1     64.040001   62.506001   63.675999   64.961998 -1.979618   1.285999   \n",
      "2     75.092003   73.297997   74.500000   76.132004 -2.143650   1.632004   \n",
      "3     69.447998   65.265999   69.440002   70.524002 -1.537065   1.084000   \n",
      "4     64.157997   61.259998   63.452000   65.417999 -3.005288   1.966000   \n",
      "..          ...         ...         ...         ...       ...        ...   \n",
      "174  854.429993  803.619995  849.400024  880.020020 -3.479466  30.619995   \n",
      "175  863.000000  838.750000  843.390015  854.409973 -1.289774  11.019958   \n",
      "176  848.000000  828.619995  834.309998  844.989990 -1.263919  10.679993   \n",
      "177  891.500000  858.659973  870.349976  883.090027 -1.442667  12.740051   \n",
      "178  847.996582  801.000000  820.000000  864.159973 -5.110162  44.159973   \n",
      "\n",
      "       return  \n",
      "0   -0.092181  \n",
      "1   -0.283050  \n",
      "2   -0.362746  \n",
      "3   -0.007376  \n",
      "4   -0.359104  \n",
      "..        ...  \n",
      "174 -0.164271  \n",
      "175 -1.000000  \n",
      "176 -1.000000  \n",
      "177 -1.000000  \n",
      "178 -0.633981  \n",
      "\n",
      "[179 rows x 7 columns]\n"
     ]
    }
   ],
   "source": [
    "ticker = 'TSLA'\n",
    "date = '2017-05-01'\n",
    "data = web.DataReader(ticker, data_source='yahoo', start=date)\n",
    "#data['Date'] = data.index\n",
    "#data['Date'] = pd.to_datetime(data['Date'])\n",
    "#print(data)\n",
    "data['Last Close'] = data['Close'].shift()\n",
    "del data['Close']\n",
    "del data['Adj Close']\n",
    "del data['Volume']\n",
    "data['Gap'] = ((data['Open']-data['Last Close'])*100/data['Last Close'])\n",
    "data = data[abs(data['Gap'])>1]\n",
    "up_gap = data[data['Gap']>1]\n",
    "up_gap = up_gap.reset_index(drop=True)\n",
    "up_gap['Size'] = up_gap['Open']-up_gap['Last Close']\n",
    "up_gap['return'] = (up_gap['Open']- up_gap['Low'])/up_gap['Size']\n",
    "up_gap['return'] = np.clip(up_gap['return'], a_max=1, a_min=None)\n",
    "up_gap[up_gap['return'] == 1].sum(axis=0)\n",
    "print(len(up_gap[up_gap['return']>=1])/len(up_gap), up_gap['return'].mean())\n",
    "down_gap = data[data['Gap']<1]\n",
    "down_gap = down_gap.reset_index(drop=True)\n",
    "down_gap['Size'] = down_gap['Last Close'] - down_gap['Open']\n",
    "down_gap['return'] = (down_gap['Open'] - down_gap['High'])/down_gap['Size']\n",
    "down_gap['return'] = np.clip(down_gap['return'], a_max=None, a_min=-1)\n",
    "print(down_gap)"
   ]
  },
  {
   "cell_type": "code",
   "execution_count": 8,
   "metadata": {},
   "outputs": [],
   "source": [
    "def gap_test2(ticker, date, gap_perc_size):\n",
    "    data = web.DataReader(ticker, data_source='yahoo', start=date)\n",
    "    data['Last Close'] = data['Close'].shift()\n",
    "    del data['Close']\n",
    "    del data['Adj Close']\n",
    "    del data['Volume']\n",
    "    data['Gap'] = ((data['Open']-data['Last Close'])*100/data['Last Close'])\n",
    "    #data = data[abs(data['Gap'])>gap_perc_size]\n",
    "    \n",
    "    \n",
    "    up_gap = data[data['Gap']>gap_perc_size]\n",
    "    up_gap = up_gap.reset_index(drop=True)\n",
    "    up_gap['Size'] = up_gap['Open']-up_gap['Last Close']\n",
    "    up_gap['return'] = (up_gap['Open']- up_gap['Low'])/up_gap['Size']\n",
    "    up_gap['return'] = np.clip(up_gap['return'], a_max=gap_perc_size, a_min=None)\n",
    "    \n",
    "    \n",
    "    down_gap = data[data['Gap']< -1*gap_perc_size]\n",
    "    down_gap = down_gap.reset_index(drop=True)\n",
    "    down_gap['Size'] = down_gap['Last Close'] - down_gap['Open']\n",
    "    down_gap['return'] = (down_gap['High'] - down_gap['Open'])/down_gap['Size']\n",
    "    down_gap['return'] = np.clip(down_gap['return'], a_max=None, a_min=(-1*gap_perc_size))\n",
    "    \n",
    "    \n",
    "    res = {'Gap Ups': [up_gap['return'].mean(), up_gap['return'].std(), len(up_gap[up_gap['return']>=1])*100/len(up_gap)],\n",
    "           'Gap Downs': [down_gap['return'].mean(), down_gap['return'].std(), len(down_gap[down_gap['return']<=1])*100/len(down_gap)]}\n",
    "    \n",
    "    results = pd.DataFrame(data=res)\n",
    "    results = results.rename(index = {0: 'Average', 1: '+/-', 2:'% close'})\n",
    "    \n",
    "    return(results)\n",
    "        "
   ]
  },
  {
   "cell_type": "code",
   "execution_count": 9,
   "metadata": {},
   "outputs": [
    {
     "name": "stdout",
     "output_type": "stream",
     "text": [
      "                        Gap Ups   Gap Downs\n",
      "Average Retracement    0.823867   -0.806447\n",
      "+/-                    0.290503    0.304429\n",
      "% Gaps closed         63.465160   61.463415\n",
      "Number of Gaps       531.000000  410.000000\n",
      "                Gap Ups  Gap Downs\n",
      "Average            0.71       0.70\n",
      "+/-                0.33       0.34\n",
      "% close           39.57      43.58\n",
      "Number of Gaps   235.00     179.00\n",
      "(0.7072696950737902, -0.6994781613079908)\n",
      "           Gap Ups  Gap Downs\n",
      "Average   0.707270   1.151492\n",
      "+/-       0.328701   1.075390\n",
      "% close  39.574468  56.424581\n"
     ]
    }
   ],
   "source": [
    "print(gap_play('TSLA', '2017-05-01', 1))\n",
    "print(gap_test('TSLA', '2017-05-01', 1))\n",
    "print(gap_test1('TSLA', '2017-05-01', 1))\n",
    "print(gap_test2('TSLA', '2017-05-01', 1))"
   ]
  },
  {
   "cell_type": "code",
   "execution_count": 10,
   "metadata": {},
   "outputs": [
    {
     "name": "stdout",
     "output_type": "stream",
     "text": [
      "                      Gap Ups  Gap Downs\n",
      "Average Retracement  0.606632  -0.690656\n",
      "+/-                       NaN        NaN\n",
      "% Gaps closed        0.000000   0.000000\n",
      "Number of Gaps       1.000000   1.000000\n",
      "                Gap Ups  Gap Downs\n",
      "Average            0.61       0.57\n",
      "+/-                 NaN        NaN\n",
      "% close            0.00       0.00\n",
      "Number of Gaps     1.00       1.00\n",
      "(0.6066319801224014, -0.5707071230078502)\n",
      "          Gap Ups   Gap Downs\n",
      "Average  0.606632    0.570707\n",
      "+/-           NaN         NaN\n",
      "% close  0.000000  100.000000\n"
     ]
    }
   ],
   "source": [
    "print(gap_play('AMC', '2021-01-26', 1))\n",
    "print(gap_test('AMC', '2021-01-26', 1))\n",
    "print(gap_test1('AMC', '2021-01-26', 1))\n",
    "print(gap_test2('AMC', '2021-01-26', 1)) # incorrect % close value (down)"
   ]
  },
  {
   "cell_type": "code",
   "execution_count": 3,
   "metadata": {},
   "outputs": [
    {
     "name": "stdout",
     "output_type": "stream",
     "text": [
      "                 High    Low   Open  Close      Volume  Adj Close\n",
      "Date                                                             \n",
      "2021-01-26   5.190000   4.37   5.09   4.96   456850200       4.96\n",
      "2021-01-27  20.360001  11.01  20.34  19.90  1222342500      19.90\n",
      "2021-01-28  16.500000   6.51  11.98   8.91   475504650       8.91\n"
     ]
    }
   ],
   "source": [
    "b = web.DataReader('AMC','yahoo', start='2021-01-26')\n",
    "print(b)"
   ]
  },
  {
   "cell_type": "code",
   "execution_count": null,
   "metadata": {},
   "outputs": [],
   "source": []
  }
 ],
 "metadata": {
  "kernelspec": {
   "display_name": "Python 3",
   "language": "python",
   "name": "python3"
  },
  "language_info": {
   "codemirror_mode": {
    "name": "ipython",
    "version": 3
   },
   "file_extension": ".py",
   "mimetype": "text/x-python",
   "name": "python",
   "nbconvert_exporter": "python",
   "pygments_lexer": "ipython3",
   "version": "3.8.5"
  }
 },
 "nbformat": 4,
 "nbformat_minor": 4
}
